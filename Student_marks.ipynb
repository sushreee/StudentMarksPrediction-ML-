{
 "cells": [
  {
   "cell_type": "markdown",
   "id": "43288c63-15dd-49f8-bf3c-99a9c23da0dc",
   "metadata": {},
   "source": [
    "# Student Dataset"
   ]
  },
  {
   "cell_type": "code",
   "execution_count": 1,
   "id": "a7a060bf-5fef-4000-ba1b-18f212674568",
   "metadata": {},
   "outputs": [],
   "source": [
    "import numpy as np\n",
    "import pandas as pd\n",
    "import matplotlib.pyplot as plt\n",
    "import seaborn as sns"
   ]
  },
  {
   "cell_type": "code",
   "execution_count": 2,
   "id": "a1a10052-a261-4cf7-977b-6618562a0846",
   "metadata": {},
   "outputs": [],
   "source": [
    "data=pd.read_csv(r\"C:\\Users\\KIIT\\Downloads\\Student_Marks.csv\")"
   ]
  },
  {
   "cell_type": "code",
   "execution_count": 3,
   "id": "189dea79-9463-463b-a654-57337700da1f",
   "metadata": {},
   "outputs": [
    {
     "data": {
      "text/html": [
       "<div>\n",
       "<style scoped>\n",
       "    .dataframe tbody tr th:only-of-type {\n",
       "        vertical-align: middle;\n",
       "    }\n",
       "\n",
       "    .dataframe tbody tr th {\n",
       "        vertical-align: top;\n",
       "    }\n",
       "\n",
       "    .dataframe thead th {\n",
       "        text-align: right;\n",
       "    }\n",
       "</style>\n",
       "<table border=\"1\" class=\"dataframe\">\n",
       "  <thead>\n",
       "    <tr style=\"text-align: right;\">\n",
       "      <th></th>\n",
       "      <th>number_courses</th>\n",
       "      <th>time_study</th>\n",
       "      <th>Marks</th>\n",
       "    </tr>\n",
       "  </thead>\n",
       "  <tbody>\n",
       "    <tr>\n",
       "      <th>0</th>\n",
       "      <td>3</td>\n",
       "      <td>4.508</td>\n",
       "      <td>19.202</td>\n",
       "    </tr>\n",
       "    <tr>\n",
       "      <th>1</th>\n",
       "      <td>4</td>\n",
       "      <td>0.096</td>\n",
       "      <td>7.734</td>\n",
       "    </tr>\n",
       "    <tr>\n",
       "      <th>2</th>\n",
       "      <td>4</td>\n",
       "      <td>3.133</td>\n",
       "      <td>13.811</td>\n",
       "    </tr>\n",
       "    <tr>\n",
       "      <th>3</th>\n",
       "      <td>6</td>\n",
       "      <td>7.909</td>\n",
       "      <td>53.018</td>\n",
       "    </tr>\n",
       "    <tr>\n",
       "      <th>4</th>\n",
       "      <td>8</td>\n",
       "      <td>7.811</td>\n",
       "      <td>55.299</td>\n",
       "    </tr>\n",
       "    <tr>\n",
       "      <th>...</th>\n",
       "      <td>...</td>\n",
       "      <td>...</td>\n",
       "      <td>...</td>\n",
       "    </tr>\n",
       "    <tr>\n",
       "      <th>95</th>\n",
       "      <td>6</td>\n",
       "      <td>3.561</td>\n",
       "      <td>19.128</td>\n",
       "    </tr>\n",
       "    <tr>\n",
       "      <th>96</th>\n",
       "      <td>3</td>\n",
       "      <td>0.301</td>\n",
       "      <td>5.609</td>\n",
       "    </tr>\n",
       "    <tr>\n",
       "      <th>97</th>\n",
       "      <td>4</td>\n",
       "      <td>7.163</td>\n",
       "      <td>41.444</td>\n",
       "    </tr>\n",
       "    <tr>\n",
       "      <th>98</th>\n",
       "      <td>7</td>\n",
       "      <td>0.309</td>\n",
       "      <td>12.027</td>\n",
       "    </tr>\n",
       "    <tr>\n",
       "      <th>99</th>\n",
       "      <td>3</td>\n",
       "      <td>6.335</td>\n",
       "      <td>32.357</td>\n",
       "    </tr>\n",
       "  </tbody>\n",
       "</table>\n",
       "<p>100 rows × 3 columns</p>\n",
       "</div>"
      ],
      "text/plain": [
       "    number_courses  time_study   Marks\n",
       "0                3       4.508  19.202\n",
       "1                4       0.096   7.734\n",
       "2                4       3.133  13.811\n",
       "3                6       7.909  53.018\n",
       "4                8       7.811  55.299\n",
       "..             ...         ...     ...\n",
       "95               6       3.561  19.128\n",
       "96               3       0.301   5.609\n",
       "97               4       7.163  41.444\n",
       "98               7       0.309  12.027\n",
       "99               3       6.335  32.357\n",
       "\n",
       "[100 rows x 3 columns]"
      ]
     },
     "execution_count": 3,
     "metadata": {},
     "output_type": "execute_result"
    }
   ],
   "source": [
    "data"
   ]
  },
  {
   "cell_type": "code",
   "execution_count": 4,
   "id": "bda7c9b1-b550-47c8-a6d4-b48e68f25f42",
   "metadata": {},
   "outputs": [
    {
     "data": {
      "text/plain": [
       "number_courses    0\n",
       "time_study        0\n",
       "Marks             0\n",
       "dtype: int64"
      ]
     },
     "execution_count": 4,
     "metadata": {},
     "output_type": "execute_result"
    }
   ],
   "source": [
    "data.isnull().sum()"
   ]
  },
  {
   "cell_type": "code",
   "execution_count": 5,
   "id": "8d81ec33-d1fb-4511-b306-c11e53266686",
   "metadata": {},
   "outputs": [
    {
     "data": {
      "text/plain": [
       "number_courses      int64\n",
       "time_study        float64\n",
       "Marks             float64\n",
       "dtype: object"
      ]
     },
     "execution_count": 5,
     "metadata": {},
     "output_type": "execute_result"
    }
   ],
   "source": [
    "data.dtypes"
   ]
  },
  {
   "cell_type": "code",
   "execution_count": 6,
   "id": "8693221e-f78e-4913-a305-238b7ace6191",
   "metadata": {},
   "outputs": [
    {
     "name": "stdout",
     "output_type": "stream",
     "text": [
      "number_courses : [3 4 6 8 5 7]\n",
      "time_study : [4.508 0.096 3.133 7.909 7.811 3.211 6.063 3.413 4.41  6.173 7.353 0.423\n",
      " 4.218 4.274 2.908 4.26  5.719 6.08  7.711 3.977 4.733 6.126 2.051 4.875\n",
      " 3.635 1.407 0.508 4.378 0.156 1.299 3.864 1.923 0.932 6.594 4.083 7.543\n",
      " 2.966 7.283 6.533 7.775 0.14  2.754 3.591 1.557 1.954 2.061 3.797 4.779\n",
      " 5.635 3.913 6.703 4.13  0.771 6.049 7.591 2.913 7.641 7.649 6.198 7.468\n",
      " 0.376 2.438 3.606 4.869 0.13  2.142 5.473 0.55  1.395 3.948 3.736 2.518\n",
      " 4.633 1.629 6.954 0.803 6.379 5.985 7.451 0.805 7.957 2.262 7.41  3.197\n",
      " 1.982 6.201 4.067 1.033 1.803 6.376 4.182 2.73  5.027 6.471 3.919 3.561\n",
      " 0.301 7.163 0.309 6.335]\n",
      "Marks : [19.202  7.734 13.811 53.018 55.299 17.822 29.889 17.264 20.348 30.862\n",
      " 42.036 12.132 24.318 17.672 11.397 19.466 30.548 38.49  50.986 25.133\n",
      " 22.073 35.939 12.209 28.043 16.517  6.623 12.647 26.532  9.333  8.837\n",
      " 24.172  8.1   15.038 39.965 17.171 43.978 13.119 46.453 41.358 51.142\n",
      "  7.336 15.725 19.771 10.429  9.742  8.924 16.703 22.701 26.882 19.106\n",
      " 40.602 22.184  7.892 36.653 53.158 18.238 53.359 51.583 31.236 51.343\n",
      " 10.522 10.844 19.59  21.379 12.591 13.562 27.569  6.185  8.92  21.4\n",
      " 16.606 13.416 20.398  7.014 39.952  6.217 36.746 38.278 49.544  6.349\n",
      " 54.321 17.705 44.099 16.106 16.461 39.957 23.149  6.053 11.253 40.024\n",
      " 24.394 19.564 23.916 42.426 24.451 19.128  5.609 41.444 12.027 32.357]\n"
     ]
    }
   ],
   "source": [
    "for i in data.columns:\n",
    "      print(i,':',data[i].unique())"
   ]
  },
  {
   "cell_type": "code",
   "execution_count": 7,
   "id": "718ae237-d68d-4272-9367-86569c1e648f",
   "metadata": {},
   "outputs": [],
   "source": [
    "d=data.corr()"
   ]
  },
  {
   "cell_type": "code",
   "execution_count": 8,
   "id": "75007912-07d6-42f5-92e6-14f5c0d78f90",
   "metadata": {},
   "outputs": [
    {
     "data": {
      "text/plain": [
       "<Axes: >"
      ]
     },
     "execution_count": 8,
     "metadata": {},
     "output_type": "execute_result"
    },
    {
     "data": {
      "image/png": "[encoded data removed]",
      "text/plain": [
       "<Figure size 640x480 with 2 Axes>"
      ]
     },
     "metadata": {},
     "output_type": "display_data"
    }
   ],
   "source": [
    "sns.heatmap(d,annot=True)"
   ]
  },
  {
   "cell_type": "code",
   "execution_count": 9,
   "id": "d55ade4d-6fec-44c2-a823-f1988b4753a5",
   "metadata": {},
   "outputs": [
    {
     "data": {
      "text/plain": [
       "<Axes: xlabel='time_study', ylabel='Marks'>"
      ]
     },
     "execution_count": 9,
     "metadata": {},
     "output_type": "execute_result"
    },
    {
     "data": {
      "image/png": "[encoded data removed]",
      "text/plain": [
       "<Figure size 640x480 with 1 Axes>"
      ]
     },
     "metadata": {},
     "output_type": "display_data"
    }
   ],
   "source": [
    "sns.lineplot(data=data,x=data.time_study,y=data.Marks)"
   ]
  },
  {
   "cell_type": "code",
   "execution_count": 10,
   "id": "4a2faecb-df9c-40ca-a382-4edda39f41d8",
   "metadata": {},
   "outputs": [
    {
     "data": {
      "text/plain": [
       "<Axes: xlabel='number_courses', ylabel='Marks'>"
      ]
     },
     "execution_count": 10,
     "metadata": {},
     "output_type": "execute_result"
    },
    {
     "data": {
      "image/png": "[encoded data removed]",
      "text/plain": [
       "<Figure size 640x480 with 1 Axes>"
      ]
     },
     "metadata": {},
     "output_type": "display_data"
    }
   ],
   "source": [
    "sns.lineplot(data=data,x=data.number_courses,y=data.Marks)"
   ]
  },
  {
   "cell_type": "code",
   "execution_count": 11,
   "id": "8aeecb6f-783e-4d49-9a22-bfb2fc3daec4",
   "metadata": {},
   "outputs": [
    {
     "data": {
      "text/plain": [
       "<seaborn.axisgrid.PairGrid at 0x230933bea50>"
      ]
     },
     "execution_count": 11,
     "metadata": {},
     "output_type": "execute_result"
    },
    {
     "data": {
      "image/png": "[encoded data removed]",
      "text/plain": [
       "<Figure size 567.75x500 with 6 Axes>"
      ]
     },
     "metadata": {},
     "output_type": "display_data"
    }
   ],
   "source": [
    "sns.pairplot(data,hue='Marks')"
   ]
  },
  {
   "cell_type": "code",
   "execution_count": 12,
   "id": "ff5b79f7-245d-4eed-a5bb-e781ef0d67af",
   "metadata": {},
   "outputs": [
    {
     "data": {
      "text/plain": [
       "<Axes: xlabel='number_courses', ylabel='count'>"
      ]
     },
     "execution_count": 12,
     "metadata": {},
     "output_type": "execute_result"
    },
    {
     "data": {
      "image/png": "[encoded data removed]",
      "text/plain": [
       "<Figure size 640x480 with 1 Axes>"
      ]
     },
     "metadata": {},
     "output_type": "display_data"
    }
   ],
   "source": [
    "sns.countplot(x=data.number_courses,hue=data.Marks)"
   ]
  },
  {
   "cell_type": "code",
   "execution_count": 13,
   "id": "a5545729-e29a-4fec-b951-be852b114e57",
   "metadata": {},
   "outputs": [],
   "source": [
    "#ip/op creation\n",
    "ip=data.drop(['Marks'],axis=1)"
   ]
  },
  {
   "cell_type": "code",
   "execution_count": 14,
   "id": "07077dd2-8624-4c68-bb06-51ddbe66c78e",
   "metadata": {},
   "outputs": [
    {
     "data": {
      "text/html": [
       "<div>\n",
       "<style scoped>\n",
       "    .dataframe tbody tr th:only-of-type {\n",
       "        vertical-align: middle;\n",
       "    }\n",
       "\n",
       "    .dataframe tbody tr th {\n",
       "        vertical-align: top;\n",
       "    }\n",
       "\n",
       "    .dataframe thead th {\n",
       "        text-align: right;\n",
       "    }\n",
       "</style>\n",
       "<table border=\"1\" class=\"dataframe\">\n",
       "  <thead>\n",
       "    <tr style=\"text-align: right;\">\n",
       "      <th></th>\n",
       "      <th>number_courses</th>\n",
       "      <th>time_study</th>\n",
       "    </tr>\n",
       "  </thead>\n",
       "  <tbody>\n",
       "    <tr>\n",
       "      <th>0</th>\n",
       "      <td>3</td>\n",
       "      <td>4.508</td>\n",
       "    </tr>\n",
       "    <tr>\n",
       "      <th>1</th>\n",
       "      <td>4</td>\n",
       "      <td>0.096</td>\n",
       "    </tr>\n",
       "    <tr>\n",
       "      <th>2</th>\n",
       "      <td>4</td>\n",
       "      <td>3.133</td>\n",
       "    </tr>\n",
       "    <tr>\n",
       "      <th>3</th>\n",
       "      <td>6</td>\n",
       "      <td>7.909</td>\n",
       "    </tr>\n",
       "    <tr>\n",
       "      <th>4</th>\n",
       "      <td>8</td>\n",
       "      <td>7.811</td>\n",
       "    </tr>\n",
       "    <tr>\n",
       "      <th>...</th>\n",
       "      <td>...</td>\n",
       "      <td>...</td>\n",
       "    </tr>\n",
       "    <tr>\n",
       "      <th>95</th>\n",
       "      <td>6</td>\n",
       "      <td>3.561</td>\n",
       "    </tr>\n",
       "    <tr>\n",
       "      <th>96</th>\n",
       "      <td>3</td>\n",
       "      <td>0.301</td>\n",
       "    </tr>\n",
       "    <tr>\n",
       "      <th>97</th>\n",
       "      <td>4</td>\n",
       "      <td>7.163</td>\n",
       "    </tr>\n",
       "    <tr>\n",
       "      <th>98</th>\n",
       "      <td>7</td>\n",
       "      <td>0.309</td>\n",
       "    </tr>\n",
       "    <tr>\n",
       "      <th>99</th>\n",
       "      <td>3</td>\n",
       "      <td>6.335</td>\n",
       "    </tr>\n",
       "  </tbody>\n",
       "</table>\n",
       "<p>100 rows × 2 columns</p>\n",
       "</div>"
      ],
      "text/plain": [
       "    number_courses  time_study\n",
       "0                3       4.508\n",
       "1                4       0.096\n",
       "2                4       3.133\n",
       "3                6       7.909\n",
       "4                8       7.811\n",
       "..             ...         ...\n",
       "95               6       3.561\n",
       "96               3       0.301\n",
       "97               4       7.163\n",
       "98               7       0.309\n",
       "99               3       6.335\n",
       "\n",
       "[100 rows x 2 columns]"
      ]
     },
     "execution_count": 14,
     "metadata": {},
     "output_type": "execute_result"
    }
   ],
   "source": [
    "ip"
   ]
  },
  {
   "cell_type": "code",
   "execution_count": 15,
   "id": "9c9c99b4-7a9a-4323-a819-54c5bcf2a1fd",
   "metadata": {},
   "outputs": [],
   "source": [
    "op=data['Marks']"
   ]
  },
  {
   "cell_type": "code",
   "execution_count": 16,
   "id": "e35cc984-719b-4927-bd7f-9f87eaaf099b",
   "metadata": {},
   "outputs": [
    {
     "data": {
      "text/plain": [
       "(100, 3)"
      ]
     },
     "execution_count": 16,
     "metadata": {},
     "output_type": "execute_result"
    }
   ],
   "source": [
    "data.shape"
   ]
  },
  {
   "cell_type": "code",
   "execution_count": 17,
   "id": "a70bce7f-5457-4788-b654-871fdacd38c9",
   "metadata": {},
   "outputs": [],
   "source": [
    "#train test split\n",
    "from sklearn.model_selection import train_test_split\n",
    "x_train,x_test,y_train,y_test=train_test_split(ip,op,test_size=0.3)"
   ]
  },
  {
   "cell_type": "code",
   "execution_count": 18,
   "id": "ed90982c-ca40-4d37-9ed6-8dac7bdbc8db",
   "metadata": {},
   "outputs": [
    {
     "data": {
      "text/html": [
       "<div>\n",
       "<style scoped>\n",
       "    .dataframe tbody tr th:only-of-type {\n",
       "        vertical-align: middle;\n",
       "    }\n",
       "\n",
       "    .dataframe tbody tr th {\n",
       "        vertical-align: top;\n",
       "    }\n",
       "\n",
       "    .dataframe thead th {\n",
       "        text-align: right;\n",
       "    }\n",
       "</style>\n",
       "<table border=\"1\" class=\"dataframe\">\n",
       "  <thead>\n",
       "    <tr style=\"text-align: right;\">\n",
       "      <th></th>\n",
       "      <th>number_courses</th>\n",
       "      <th>time_study</th>\n",
       "    </tr>\n",
       "  </thead>\n",
       "  <tbody>\n",
       "    <tr>\n",
       "      <th>60</th>\n",
       "      <td>6</td>\n",
       "      <td>0.376</td>\n",
       "    </tr>\n",
       "    <tr>\n",
       "      <th>57</th>\n",
       "      <td>7</td>\n",
       "      <td>7.649</td>\n",
       "    </tr>\n",
       "    <tr>\n",
       "      <th>34</th>\n",
       "      <td>3</td>\n",
       "      <td>4.083</td>\n",
       "    </tr>\n",
       "    <tr>\n",
       "      <th>54</th>\n",
       "      <td>8</td>\n",
       "      <td>7.591</td>\n",
       "    </tr>\n",
       "    <tr>\n",
       "      <th>18</th>\n",
       "      <td>6</td>\n",
       "      <td>7.711</td>\n",
       "    </tr>\n",
       "    <tr>\n",
       "      <th>...</th>\n",
       "      <td>...</td>\n",
       "      <td>...</td>\n",
       "    </tr>\n",
       "    <tr>\n",
       "      <th>23</th>\n",
       "      <td>7</td>\n",
       "      <td>4.875</td>\n",
       "    </tr>\n",
       "    <tr>\n",
       "      <th>81</th>\n",
       "      <td>8</td>\n",
       "      <td>2.262</td>\n",
       "    </tr>\n",
       "    <tr>\n",
       "      <th>14</th>\n",
       "      <td>3</td>\n",
       "      <td>2.908</td>\n",
       "    </tr>\n",
       "    <tr>\n",
       "      <th>94</th>\n",
       "      <td>8</td>\n",
       "      <td>3.919</td>\n",
       "    </tr>\n",
       "    <tr>\n",
       "      <th>26</th>\n",
       "      <td>7</td>\n",
       "      <td>0.508</td>\n",
       "    </tr>\n",
       "  </tbody>\n",
       "</table>\n",
       "<p>70 rows × 2 columns</p>\n",
       "</div>"
      ],
      "text/plain": [
       "    number_courses  time_study\n",
       "60               6       0.376\n",
       "57               7       7.649\n",
       "34               3       4.083\n",
       "54               8       7.591\n",
       "18               6       7.711\n",
       "..             ...         ...\n",
       "23               7       4.875\n",
       "81               8       2.262\n",
       "14               3       2.908\n",
       "94               8       3.919\n",
       "26               7       0.508\n",
       "\n",
       "[70 rows x 2 columns]"
      ]
     },
     "execution_count": 18,
     "metadata": {},
     "output_type": "execute_result"
    }
   ],
   "source": [
    "x_train"
   ]
  },
  {
   "cell_type": "code",
   "execution_count": 19,
   "id": "839a77f5-10b2-4f6e-a43a-d7ac96a47156",
   "metadata": {},
   "outputs": [
    {
     "data": {
      "text/plain": [
       "(70, 2)"
      ]
     },
     "execution_count": 19,
     "metadata": {},
     "output_type": "execute_result"
    }
   ],
   "source": [
    "x_train.shape"
   ]
  },
  {
   "cell_type": "code",
   "execution_count": 20,
   "id": "3e17eb75-23fd-4ffb-a525-fce1d5244894",
   "metadata": {},
   "outputs": [],
   "source": [
    "# standard scalar transform\n",
    "from sklearn.preprocessing import StandardScaler\n",
    "sc=StandardScaler()\n",
    "x_train=sc.fit_transform(x_train)\n",
    "x_test=sc.fit_transform(x_test)"
   ]
  },
  {
   "cell_type": "code",
   "execution_count": 21,
   "id": "c5be713b-a17c-40e0-a095-e13e461b05dc",
   "metadata": {},
   "outputs": [
    {
     "data": {
      "text/plain": [
       "array([[ 0.35806611, -1.45582186],\n",
       "       [ 0.90294933,  1.5284248 ],\n",
       "       [-1.27658354,  0.06522892],\n",
       "       [ 1.44783255,  1.50462632],\n",
       "       [ 0.35806611,  1.55386455],\n",
       "       [-1.27658354, -0.76443514],\n",
       "       [-1.27658354,  1.40697051],\n",
       "       [ 0.35806611,  1.58012493],\n",
       "       [ 0.35806611,  0.08451389],\n",
       "       [-0.73170032, -1.07709786],\n",
       "       [-0.1868171 , -0.87029732],\n",
       "       [ 1.44783255, -0.79685031],\n",
       "       [-0.73170032, -1.55265704],\n",
       "       [ 0.35806611, -0.14895735],\n",
       "       [-0.73170032, -1.57071105],\n",
       "       [ 0.90294933,  0.87191515],\n",
       "       [ 0.35806611,  1.63510761],\n",
       "       [-1.27658354,  0.70204328],\n",
       "       [-0.73170032,  1.24325342],\n",
       "       [-0.73170032,  0.33193597],\n",
       "       [ 1.44783255,  1.04506957],\n",
       "       [-1.27658354, -0.8210591 ],\n",
       "       [-1.27658354, -1.38442644],\n",
       "       [ 0.35806611, -0.73119934],\n",
       "       [ 1.44783255, -1.22768476],\n",
       "       [-0.73170032, -1.29374605],\n",
       "       [ 0.90294933,  0.05866383],\n",
       "       [ 0.90294933, -1.43653689],\n",
       "       [ 1.44783255,  1.45415714],\n",
       "       [-0.1868171 , -1.54609194],\n",
       "       [-0.73170032, -0.32457368],\n",
       "       [-0.1868171 , -0.57691958],\n",
       "       [-1.27658354,  0.29090411],\n",
       "       [-0.73170032, -1.03770728],\n",
       "       [ 0.90294933,  1.00608931],\n",
       "       [ 1.44783255,  0.93428357],\n",
       "       [-1.27658354, -0.94169275],\n",
       "       [-0.73170032,  0.1378553 ],\n",
       "       [ 1.44783255,  0.88463503],\n",
       "       [-1.27658354, -1.48659575],\n",
       "       [ 0.35806611, -0.4800844 ],\n",
       "       [-0.1868171 ,  1.00732027],\n",
       "       [-0.73170032,  0.19940308],\n",
       "       [ 0.35806611,  1.14026347],\n",
       "       [-1.27658354,  0.14359976],\n",
       "       [ 0.35806611, -0.29256883],\n",
       "       [ 1.44783255, -0.02463084],\n",
       "       [-0.1868171 , -0.29831329],\n",
       "       [-1.27658354,  0.38773929],\n",
       "       [-0.73170032,  1.32900999],\n",
       "       [-1.27658354,  0.92279465],\n",
       "       [-1.27658354,  1.48493103],\n",
       "       [-0.73170032, -0.11859378],\n",
       "       [ 1.44783255,  0.02173516],\n",
       "       [ 0.35806611, -0.13664779],\n",
       "       [ 1.44783255,  0.84565476],\n",
       "       [-1.27658354, -1.28061585],\n",
       "       [-1.27658354, -1.03278346],\n",
       "       [-0.73170032, -0.80833923],\n",
       "       [-0.73170032,  0.35081062],\n",
       "       [ 0.35806611,  1.37824822],\n",
       "       [ 1.44783255,  1.52514225],\n",
       "       [ 0.35806611,  0.00983592],\n",
       "       [ 0.90294933,  0.12062192],\n",
       "       [ 0.90294933, -1.55676022],\n",
       "       [ 0.90294933,  0.3902012 ],\n",
       "       [ 1.44783255, -0.68196112],\n",
       "       [-1.27658354, -0.41689535],\n",
       "       [ 1.44783255, -0.00206332],\n",
       "       [ 0.90294933, -1.40165982]])"
      ]
     },
     "execution_count": 21,
     "metadata": {},
     "output_type": "execute_result"
    }
   ],
   "source": [
    "x_train"
   ]
  },
  {
   "cell_type": "code",
   "execution_count": 22,
   "id": "27cb6fa3-b8a0-400d-87c3-48d09990ca67",
   "metadata": {},
   "outputs": [
    {
     "data": {
      "text/html": [
       "<style>#sk-container-id-1 {color: black;background-color: white;}#sk-container-id-1 pre{padding: 0;}#sk-container-id-1 div.sk-toggleable {background-color: white;}#sk-container-id-1 label.sk-toggleable__label {cursor: pointer;display: block;width: 100%;margin-bottom: 0;padding: 0.3em;box-sizing: border-box;text-align: center;}#sk-container-id-1 label.sk-toggleable__label-arrow:before {content: \"▸\";float: left;margin-right: 0.25em;color: #696969;}#sk-container-id-1 label.sk-toggleable__label-arrow:hover:before {color: black;}#sk-container-id-1 div.sk-estimator:hover label.sk-toggleable__label-arrow:before {color: black;}#sk-container-id-1 div.sk-toggleable__content {max-height: 0;max-width: 0;overflow: hidden;text-align: left;background-color: #f0f8ff;}#sk-container-id-1 div.sk-toggleable__content pre {margin: 0.2em;color: black;border-radius: 0.25em;background-color: #f0f8ff;}#sk-container-id-1 input.sk-toggleable__control:checked~div.sk-toggleable__content {max-height: 200px;max-width: 100%;overflow: auto;}#sk-container-id-1 input.sk-toggleable__control:checked~label.sk-toggleable__label-arrow:before {content: \"▾\";}#sk-container-id-1 div.sk-estimator input.sk-toggleable__control:checked~label.sk-toggleable__label {background-color: #d4ebff;}#sk-container-id-1 div.sk-label input.sk-toggleable__control:checked~label.sk-toggleable__label {background-color: #d4ebff;}#sk-container-id-1 input.sk-hidden--visually {border: 0;clip: rect(1px 1px 1px 1px);clip: rect(1px, 1px, 1px, 1px);height: 1px;margin: -1px;overflow: hidden;padding: 0;position: absolute;width: 1px;}#sk-container-id-1 div.sk-estimator {font-family: monospace;background-color: #f0f8ff;border: 1px dotted black;border-radius: 0.25em;box-sizing: border-box;margin-bottom: 0.5em;}#sk-container-id-1 div.sk-estimator:hover {background-color: #d4ebff;}#sk-container-id-1 div.sk-parallel-item::after {content: \"\";width: 100%;border-bottom: 1px solid gray;flex-grow: 1;}#sk-container-id-1 div.sk-label:hover label.sk-toggleable__label {background-color: #d4ebff;}#sk-container-id-1 div.sk-serial::before {content: \"\";position: absolute;border-left: 1px solid gray;box-sizing: border-box;top: 0;bottom: 0;left: 50%;z-index: 0;}#sk-container-id-1 div.sk-serial {display: flex;flex-direction: column;align-items: center;background-color: white;padding-right: 0.2em;padding-left: 0.2em;position: relative;}#sk-container-id-1 div.sk-item {position: relative;z-index: 1;}#sk-container-id-1 div.sk-parallel {display: flex;align-items: stretch;justify-content: center;background-color: white;position: relative;}#sk-container-id-1 div.sk-item::before, #sk-container-id-1 div.sk-parallel-item::before {content: \"\";position: absolute;border-left: 1px solid gray;box-sizing: border-box;top: 0;bottom: 0;left: 50%;z-index: -1;}#sk-container-id-1 div.sk-parallel-item {display: flex;flex-direction: column;z-index: 1;position: relative;background-color: white;}#sk-container-id-1 div.sk-parallel-item:first-child::after {align-self: flex-end;width: 50%;}#sk-container-id-1 div.sk-parallel-item:last-child::after {align-self: flex-start;width: 50%;}#sk-container-id-1 div.sk-parallel-item:only-child::after {width: 0;}#sk-container-id-1 div.sk-dashed-wrapped {border: 1px dashed gray;margin: 0 0.4em 0.5em 0.4em;box-sizing: border-box;padding-bottom: 0.4em;background-color: white;}#sk-container-id-1 div.sk-label label {font-family: monospace;font-weight: bold;display: inline-block;line-height: 1.2em;}#sk-container-id-1 div.sk-label-container {text-align: center;}#sk-container-id-1 div.sk-container {/* jupyter's `normalize.less` sets `[hidden] { display: none; }` but bootstrap.min.css set `[hidden] { display: none !important; }` so we also need the `!important` here to be able to override the default hidden behavior on the sphinx rendered scikit-learn.org. See: https://github.com/scikit-learn/scikit-learn/issues/21755 */display: inline-block !important;position: relative;}#sk-container-id-1 div.sk-text-repr-fallback {display: none;}</style><div id=\"sk-container-id-1\" class=\"sk-top-container\"><div class=\"sk-text-repr-fallback\"><pre>LinearRegression()</pre><b>In a Jupyter environment, please rerun this cell to show the HTML representation or trust the notebook. <br />On GitHub, the HTML representation is unable to render, please try loading this page with nbviewer.org.</b></div><div class=\"sk-container\" hidden><div class=\"sk-item\"><div class=\"sk-estimator sk-toggleable\"><input class=\"sk-toggleable__control sk-hidden--visually\" id=\"sk-estimator-id-1\" type=\"checkbox\" checked><label for=\"sk-estimator-id-1\" class=\"sk-toggleable__label sk-toggleable__label-arrow\">LinearRegression</label><div class=\"sk-toggleable__content\"><pre>LinearRegression()</pre></div></div></div></div></div>"
      ],
      "text/plain": [
       "LinearRegression()"
      ]
     },
     "execution_count": 22,
     "metadata": {},
     "output_type": "execute_result"
    }
   ],
   "source": [
    "from sklearn.linear_model import LinearRegression\n",
    "alg=LinearRegression()\n",
    "alg.fit(x_train,y_train)"
   ]
  },
  {
   "cell_type": "code",
   "execution_count": 23,
   "id": "ba2d6751-be25-4220-9eb2-4117e3b00966",
   "metadata": {},
   "outputs": [],
   "source": [
    "#prediction\n",
    "yp=alg.predict(x_test)"
   ]
  },
  {
   "cell_type": "code",
   "execution_count": 24,
   "id": "3a219a6d-c18f-42ae-9955-ca056857e1da",
   "metadata": {},
   "outputs": [
    {
     "data": {
      "text/plain": [
       "array([12.7415664 , 40.32771789, 31.46287524,  9.5256531 , 18.2792214 ,\n",
       "        9.12202299, 35.89529656, 30.47336572, 28.01106384, 38.74576517,\n",
       "       17.80297541, 29.15565082, 45.9190217 , 50.06517802, 17.43143997,\n",
       "       25.29459162, 26.00837666, 39.80883668,  2.41892171, 20.54661945,\n",
       "       49.00093861, 19.11810324, 31.30779777,  6.11319502, -2.37402146,\n",
       "       -0.98533162, 29.65111516, 20.18000686, 20.46298997, 17.41761753])"
      ]
     },
     "execution_count": 24,
     "metadata": {},
     "output_type": "execute_result"
    }
   ],
   "source": [
    "yp"
   ]
  },
  {
   "cell_type": "code",
   "execution_count": 25,
   "id": "45070b77-0e96-4b29-a091-bfc41a0a8095",
   "metadata": {},
   "outputs": [],
   "source": [
    "df=pd.DataFrame({'y':list(y_test),'prediction':yp})"
   ]
  },
  {
   "cell_type": "code",
   "execution_count": 26,
   "id": "041efda1-c422-47a9-a48e-dd02800f7624",
   "metadata": {},
   "outputs": [
    {
     "data": {
      "text/html": [
       "<div>\n",
       "<style scoped>\n",
       "    .dataframe tbody tr th:only-of-type {\n",
       "        vertical-align: middle;\n",
       "    }\n",
       "\n",
       "    .dataframe tbody tr th {\n",
       "        vertical-align: top;\n",
       "    }\n",
       "\n",
       "    .dataframe thead th {\n",
       "        text-align: right;\n",
       "    }\n",
       "</style>\n",
       "<table border=\"1\" class=\"dataframe\">\n",
       "  <thead>\n",
       "    <tr style=\"text-align: right;\">\n",
       "      <th></th>\n",
       "      <th>y</th>\n",
       "      <th>prediction</th>\n",
       "    </tr>\n",
       "  </thead>\n",
       "  <tbody>\n",
       "    <tr>\n",
       "      <th>0</th>\n",
       "      <td>13.119</td>\n",
       "      <td>12.741566</td>\n",
       "    </tr>\n",
       "    <tr>\n",
       "      <th>1</th>\n",
       "      <td>41.358</td>\n",
       "      <td>40.327718</td>\n",
       "    </tr>\n",
       "    <tr>\n",
       "      <th>2</th>\n",
       "      <td>30.548</td>\n",
       "      <td>31.462875</td>\n",
       "    </tr>\n",
       "    <tr>\n",
       "      <th>3</th>\n",
       "      <td>10.844</td>\n",
       "      <td>9.525653</td>\n",
       "    </tr>\n",
       "    <tr>\n",
       "      <th>4</th>\n",
       "      <td>18.238</td>\n",
       "      <td>18.279221</td>\n",
       "    </tr>\n",
       "    <tr>\n",
       "      <th>5</th>\n",
       "      <td>12.209</td>\n",
       "      <td>9.122023</td>\n",
       "    </tr>\n",
       "    <tr>\n",
       "      <th>6</th>\n",
       "      <td>35.939</td>\n",
       "      <td>35.895297</td>\n",
       "    </tr>\n",
       "    <tr>\n",
       "      <th>7</th>\n",
       "      <td>31.236</td>\n",
       "      <td>30.473366</td>\n",
       "    </tr>\n",
       "    <tr>\n",
       "      <th>8</th>\n",
       "      <td>27.569</td>\n",
       "      <td>28.011064</td>\n",
       "    </tr>\n",
       "    <tr>\n",
       "      <th>9</th>\n",
       "      <td>39.965</td>\n",
       "      <td>38.745765</td>\n",
       "    </tr>\n",
       "    <tr>\n",
       "      <th>10</th>\n",
       "      <td>16.703</td>\n",
       "      <td>17.802975</td>\n",
       "    </tr>\n",
       "    <tr>\n",
       "      <th>11</th>\n",
       "      <td>26.532</td>\n",
       "      <td>29.155651</td>\n",
       "    </tr>\n",
       "    <tr>\n",
       "      <th>12</th>\n",
       "      <td>49.544</td>\n",
       "      <td>45.919022</td>\n",
       "    </tr>\n",
       "    <tr>\n",
       "      <th>13</th>\n",
       "      <td>55.299</td>\n",
       "      <td>50.065178</td>\n",
       "    </tr>\n",
       "    <tr>\n",
       "      <th>14</th>\n",
       "      <td>16.606</td>\n",
       "      <td>17.431440</td>\n",
       "    </tr>\n",
       "    <tr>\n",
       "      <th>15</th>\n",
       "      <td>23.916</td>\n",
       "      <td>25.294592</td>\n",
       "    </tr>\n",
       "    <tr>\n",
       "      <th>16</th>\n",
       "      <td>24.394</td>\n",
       "      <td>26.008377</td>\n",
       "    </tr>\n",
       "    <tr>\n",
       "      <th>17</th>\n",
       "      <td>44.099</td>\n",
       "      <td>39.808837</td>\n",
       "    </tr>\n",
       "    <tr>\n",
       "      <th>18</th>\n",
       "      <td>12.027</td>\n",
       "      <td>2.418922</td>\n",
       "    </tr>\n",
       "    <tr>\n",
       "      <th>19</th>\n",
       "      <td>19.590</td>\n",
       "      <td>20.546619</td>\n",
       "    </tr>\n",
       "    <tr>\n",
       "      <th>20</th>\n",
       "      <td>54.321</td>\n",
       "      <td>49.000939</td>\n",
       "    </tr>\n",
       "    <tr>\n",
       "      <th>21</th>\n",
       "      <td>19.564</td>\n",
       "      <td>19.118103</td>\n",
       "    </tr>\n",
       "    <tr>\n",
       "      <th>22</th>\n",
       "      <td>32.357</td>\n",
       "      <td>31.307798</td>\n",
       "    </tr>\n",
       "    <tr>\n",
       "      <th>23</th>\n",
       "      <td>10.429</td>\n",
       "      <td>6.113195</td>\n",
       "    </tr>\n",
       "    <tr>\n",
       "      <th>24</th>\n",
       "      <td>6.349</td>\n",
       "      <td>-2.374021</td>\n",
       "    </tr>\n",
       "    <tr>\n",
       "      <th>25</th>\n",
       "      <td>6.053</td>\n",
       "      <td>-0.985332</td>\n",
       "    </tr>\n",
       "    <tr>\n",
       "      <th>26</th>\n",
       "      <td>29.889</td>\n",
       "      <td>29.651115</td>\n",
       "    </tr>\n",
       "    <tr>\n",
       "      <th>27</th>\n",
       "      <td>19.202</td>\n",
       "      <td>20.180007</td>\n",
       "    </tr>\n",
       "    <tr>\n",
       "      <th>28</th>\n",
       "      <td>19.106</td>\n",
       "      <td>20.462990</td>\n",
       "    </tr>\n",
       "    <tr>\n",
       "      <th>29</th>\n",
       "      <td>17.264</td>\n",
       "      <td>17.417618</td>\n",
       "    </tr>\n",
       "  </tbody>\n",
       "</table>\n",
       "</div>"
      ],
      "text/plain": [
       "         y  prediction\n",
       "0   13.119   12.741566\n",
       "1   41.358   40.327718\n",
       "2   30.548   31.462875\n",
       "3   10.844    9.525653\n",
       "4   18.238   18.279221\n",
       "5   12.209    9.122023\n",
       "6   35.939   35.895297\n",
       "7   31.236   30.473366\n",
       "8   27.569   28.011064\n",
       "9   39.965   38.745765\n",
       "10  16.703   17.802975\n",
       "11  26.532   29.155651\n",
       "12  49.544   45.919022\n",
       "13  55.299   50.065178\n",
       "14  16.606   17.431440\n",
       "15  23.916   25.294592\n",
       "16  24.394   26.008377\n",
       "17  44.099   39.808837\n",
       "18  12.027    2.418922\n",
       "19  19.590   20.546619\n",
       "20  54.321   49.000939\n",
       "21  19.564   19.118103\n",
       "22  32.357   31.307798\n",
       "23  10.429    6.113195\n",
       "24   6.349   -2.374021\n",
       "25   6.053   -0.985332\n",
       "26  29.889   29.651115\n",
       "27  19.202   20.180007\n",
       "28  19.106   20.462990\n",
       "29  17.264   17.417618"
      ]
     },
     "execution_count": 26,
     "metadata": {},
     "output_type": "execute_result"
    }
   ],
   "source": [
    "df"
   ]
  },
  {
   "cell_type": "code",
   "execution_count": 27,
   "id": "4697cc32-0b12-442f-9f35-d2561523faee",
   "metadata": {},
   "outputs": [],
   "source": [
    "#accuracy\n",
    "from sklearn.metrics import mean_squared_error,r2_score\n",
    "mse=mean_squared_error(y_test,yp)\n",
    "r2=r2_score(y_test,yp)"
   ]
  },
  {
   "cell_type": "code",
   "execution_count": 28,
   "id": "a28a4b02-1eeb-45d2-b589-af3dabe8e66a",
   "metadata": {},
   "outputs": [
    {
     "name": "stdout",
     "output_type": "stream",
     "text": [
      "11.925416306349595\n",
      "0.9346217090130148\n"
     ]
    }
   ],
   "source": [
    "print(mse)\n",
    "print(r2)"
   ]
  },
  {
   "cell_type": "code",
   "execution_count": 29,
   "id": "315a8c2b-a143-40a2-a6f4-eb6002509267",
   "metadata": {},
   "outputs": [
    {
     "name": "stdout",
     "output_type": "stream",
     "text": [
      "m [ 3.27205217 12.97766345]\n",
      " c 23.964285714285708\n"
     ]
    }
   ],
   "source": [
    "print('m',alg.coef_\n",
    "    )\n",
    "print(' c',alg.intercept_)"
   ]
  },
  {
   "cell_type": "code",
   "execution_count": null,
   "id": "590fd582-7248-4b4d-a1d4-c7feec217ce0",
   "metadata": {},
   "outputs": [],
   "source": []
  }
 ],
 "metadata": {
  "kernelspec": {
   "display_name": "Python 3 (ipykernel)",
   "language": "python",
   "name": "python3"
  },
  "language_info": {
   "codemirror_mode": {
    "name": "ipython",
    "version": 3
   },
   "file_extension": ".py",
   "mimetype": "text/x-python",
   "name": "python",
   "nbconvert_exporter": "python",
   "pygments_lexer": "ipython3",
   "version": "3.11.7"
  }
 },
 "nbformat": 4,
 "nbformat_minor": 5
}
